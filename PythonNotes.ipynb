{
 "cells": [
  {
   "cell_type": "markdown",
   "id": "sustainable-typing",
   "metadata": {},
   "source": [
    "# **Python features**\n",
    "Unlike other programming languages, Python sintaxis does not use parentheses or curly brackets to group code lines in blocks. Instead, it uses *indentation* for this purpose.  \n",
    "Python uses 0-indexing, meaning that the indices go as 0, 1, 2, .. and then, for instance, *range(n)* gives the integers from 0 to n-1. Similarly, *range(m, n, k)* gives the integers from m to n-1 in steps of k. "
   ]
  },
  {
   "cell_type": "markdown",
   "id": "conventional-david",
   "metadata": {},
   "source": [
    "## **Control Flow**"
   ]
  },
  {
   "cell_type": "markdown",
   "id": "happy-partnership",
   "metadata": {},
   "source": [
    "### Conditional execution, if statement. "
   ]
  },
  {
   "cell_type": "code",
   "execution_count": 1,
   "id": "utility-research",
   "metadata": {},
   "outputs": [
    {
     "name": "stdout",
     "output_type": "stream",
     "text": [
      "-2\n",
      "\n",
      "4\n",
      "\n",
      "negative\n"
     ]
    }
   ],
   "source": [
    "x = -2\n",
    "if x < 0:\n",
    "    print(x)\n",
    "print()  \n",
    "\n",
    "if x > 0:\n",
    "    print(x)\n",
    "else:\n",
    "    print(x*x)\n",
    "print()  \n",
    "\n",
    "if x > 0:\n",
    "    print(\"positive\")\n",
    "elif x < 0:\n",
    "    print(\"negative\")\n",
    "else: \n",
    "    print(\"zero\")"
   ]
  },
  {
   "cell_type": "markdown",
   "id": "cutting-phrase",
   "metadata": {},
   "source": [
    "### for loops"
   ]
  },
  {
   "cell_type": "code",
   "execution_count": 2,
   "id": "solar-direction",
   "metadata": {},
   "outputs": [
    {
     "name": "stdout",
     "output_type": "stream",
     "text": [
      "1\n",
      "2\n",
      "3\n",
      "4\n",
      "5\n",
      "\n",
      "1 2 3 4 5 "
     ]
    }
   ],
   "source": [
    "for i in (1,2,3,4,5):\n",
    "    print(i)\n",
    "print()    \n",
    "for i in (1,2,3,4,5):\n",
    "    print(i, end = \" \")    "
   ]
  },
  {
   "cell_type": "markdown",
   "id": "social-sword",
   "metadata": {},
   "source": [
    "### while loops\n",
    "A while loop tests a condition; it keeps repeating the body of the loop until the condition is no longer true, in which case the body of the block is jumped over and execution resumes from the following (non-indented) line."
   ]
  },
  {
   "cell_type": "code",
   "execution_count": 3,
   "id": "executed-geology",
   "metadata": {},
   "outputs": [
    {
     "name": "stdout",
     "output_type": "stream",
     "text": [
      "5 4 3 2 1 0 "
     ]
    }
   ],
   "source": [
    "n = 6\n",
    "while n >= 1:\n",
    "    n -= 1\n",
    "    print(n, end = \" \")"
   ]
  },
  {
   "cell_type": "markdown",
   "id": "demonstrated-siemens",
   "metadata": {},
   "source": [
    "## **Data Structures**\n",
    "**Lists**  \n",
    "A list is a container of elements which can be of different types. A list can change and grow when it is needed. Lists are defined by enclosing comma-separated elements into square brackets.  \n",
    "**Tuples**   \n",
    "Tuples are sequences that can neither change nor grow. Unlike lists, tuples are immutable and are defined using parentheses instead of square brackets.  \n",
    "**Strings**  \n",
    "Strings can also be viewed as sequences, e.g., if *str = \"name\"*, then *str[0]* is the character *‘n’*. Note that it can be used either single or double quotation marks. Like tuples, strings are immutable.  \n",
    "**Dictionaries**  \n",
    "A dictionary is a collection of *key* and value pairs. It can be used integers, strings or floats as keys. The syntax for creating a dictionary involves key-value pairs separated by commas enclosed into curly brackets and each key-value pair being separated by a colon."
   ]
  },
  {
   "cell_type": "code",
   "execution_count": 4,
   "id": "clinical-campus",
   "metadata": {},
   "outputs": [
    {
     "name": "stdout",
     "output_type": "stream",
     "text": [
      "[0, 1, 4, 9, 16, 25, 36, 49, 64, 81]\n"
     ]
    }
   ],
   "source": [
    "ls = []\n",
    "for i in range(10):\n",
    "    ls.append(i*i)\n",
    "print(ls)    "
   ]
  },
  {
   "cell_type": "code",
   "execution_count": 5,
   "id": "neural-queue",
   "metadata": {},
   "outputs": [
    {
     "name": "stdout",
     "output_type": "stream",
     "text": [
      "(1, 2, 3, 4, 5)\n"
     ]
    }
   ],
   "source": [
    "tp = (1,2,3,4,5)\n",
    "print(tp)    "
   ]
  },
  {
   "cell_type": "code",
   "execution_count": 6,
   "id": "jewish-julian",
   "metadata": {},
   "outputs": [
    {
     "name": "stdout",
     "output_type": "stream",
     "text": [
      "n\n"
     ]
    }
   ],
   "source": [
    "str = \"name\"\n",
    "print(str[0])"
   ]
  },
  {
   "cell_type": "code",
   "execution_count": 7,
   "id": "iraqi-nomination",
   "metadata": {},
   "outputs": [
    {
     "name": "stdout",
     "output_type": "stream",
     "text": [
      "{0: 'black', 1: 'blue', 2: 'green', 3: 'red'}\n"
     ]
    }
   ],
   "source": [
    "dict = {}\n",
    "colors = ('black','blue','green','red') \n",
    "for i in range(4):\n",
    "    dict[i] = colors[i]\n",
    "print(dict)    "
   ]
  },
  {
   "cell_type": "markdown",
   "id": "juvenile-builder",
   "metadata": {},
   "source": [
    "## User-Defined Functions\n",
    "A user-defined function is introduced via the *def* keyword, along with a function name, a list of *parameters* between parentheses, if any, and a colon at the end of the line, as well as indentation of the code block that follows."
   ]
  },
  {
   "cell_type": "code",
   "execution_count": 8,
   "id": "fixed-intervention",
   "metadata": {},
   "outputs": [
    {
     "data": {
      "text/plain": [
       "4"
      ]
     },
     "execution_count": 8,
     "metadata": {},
     "output_type": "execute_result"
    }
   ],
   "source": [
    "def myfunct(x):\n",
    "    return(x*x)\n",
    "myfunct(2)"
   ]
  },
  {
   "cell_type": "markdown",
   "id": "constant-monthly",
   "metadata": {},
   "source": [
    "## Core-Python Idioms"
   ]
  },
  {
   "cell_type": "markdown",
   "id": "proud-henry",
   "metadata": {},
   "source": [
    "Pythonic idioms allow us to perform tasks more straightforwardly than with the syntax introduced above. This \n",
    "alternative syntax makes the code more concise and expressive."
   ]
  },
  {
   "cell_type": "markdown",
   "id": "literary-relation",
   "metadata": {},
   "source": [
    "### List comprehensions"
   ]
  },
  {
   "cell_type": "code",
   "execution_count": 9,
   "id": "italic-moscow",
   "metadata": {},
   "outputs": [
    {
     "name": "stdout",
     "output_type": "stream",
     "text": [
      "[0.0, 0.1, 0.2, 0.30000000000000004, 0.4, 0.5, 0.6000000000000001, 0.7000000000000001, 0.8, 0.9] \n",
      "[0.0, 0.1, 0.2, 0.30000000000000004, 0.4, 0.5, 0.6000000000000001, 0.7000000000000001, 0.8, 0.9] "
     ]
    }
   ],
   "source": [
    "xs = [0.1*i for i in range(10)]\n",
    "print(xs, end = \" \")\n",
    "print() \n",
    "ys = [i for i in range(10)]    \n",
    "def f(x):\n",
    "    return 0.1*x\n",
    "ws = [f(x) for x in ys]\n",
    "print(ws, end = \" \")"
   ]
  },
  {
   "cell_type": "markdown",
   "id": "later-conviction",
   "metadata": {},
   "source": [
    "### Iterating Idiomatically"
   ]
  },
  {
   "cell_type": "markdown",
   "id": "informational-nancy",
   "metadata": {},
   "source": [
    "**One list** Given a list xs, we can iterate through its elements via a for loop *for i in range(len(xs)):* and in the loop body we can get a specific element by indexing xs[i]. The Pythonic alternative, instead of iterating through an index, iterates directly through the list elements *for x in xs:* and then simply use x in the loop body.  \n",
    "To iterate through the elements of a list xs in reverse order we can use the Python’s built-in *reversed()* function, writing *for x in reversed(xs):* and using x directly.  \n",
    "When we need to access to both the index of an element in the list, and the element itself, the “traditional” solution would involve something like *for i in range(len(xs)):* followed by using the index i and xs[i] in the loop body. The Pythonic alternative is to use the built-in *enumerate()* function, *for i, x in enumerate(xs):* and then use i and x directly. This solution is more readable and less error-prone.  \n",
    "**Two lists** We sometimes need to iterate through two lists, xs and ys, in parallel. The Pythonic solution is to write *for x, y in zip(xs,ys):* and then use x and y directly. The *zip()* built-in function creates an iterable entity consisting of tuples, fusing the 0th element in xs with the 0th element in ys, the 1st element in xs with the 1st element in ys, and so on.  \n",
    "**Dictionaries** We can iterate through the keys of a dictionary. We could write *for key in dict:* and then use key and dict[key] in the loop body. A Pythonic way of doing the same thing uses the *items()* method of dictionaries to produce all the key-value pairs.  \n",
    "**For-else** Similarly to if statements, we can follow a for loop by an else. The way this works is that the for loop is run as usual: if no break is encountered during execution of the for block, then control proceeds to the else block. If a break is encountered during execution of the for block, then the else block is not run. The else in a for loop is useful when we are looking for an item within a sequence and we need to do one thing if we find it and a different thing if we don’t."
   ]
  },
  {
   "cell_type": "code",
   "execution_count": 10,
   "id": "broadband-accuracy",
   "metadata": {},
   "outputs": [
    {
     "name": "stdout",
     "output_type": "stream",
     "text": [
      "0.0 0.5 1.0 1.5 2.0 2.5 \n",
      "2.5 2.0 1.5 1.0 0.5 0.0 \n",
      "( 0 , 0.0 ) ( 1 , 0.5 ) ( 2 , 1.0 ) ( 3 , 1.5 ) ( 4 , 2.0 ) ( 5 , 2.5 ) \n",
      "0.0 0.5 2.0 4.5 8.0 12.5 "
     ]
    }
   ],
   "source": [
    "xs = []\n",
    "for i in range(6):\n",
    "    xs.append(0.5*i)\n",
    "for x in xs:\n",
    "    print(x, end = \" \")\n",
    "print()    \n",
    "for x in reversed(xs):\n",
    "    print(x, end = \" \")\n",
    "print()    \n",
    "for i, x in enumerate(xs):\n",
    "    print(\"(\",i,\",\",x,\")\", end = \" \")\n",
    "print()\n",
    "ys = [] \n",
    "for i in range(6):\n",
    "    ys.append(i)\n",
    "for x, y in zip(xs,ys): \n",
    "    print(x*y, end = \" \")"
   ]
  },
  {
   "cell_type": "code",
   "execution_count": 11,
   "id": "russian-aruba",
   "metadata": {},
   "outputs": [
    {
     "name": "stdout",
     "output_type": "stream",
     "text": [
      "Eve\n",
      "None\n"
     ]
    }
   ],
   "source": [
    "def look(target,names):\n",
    "    for name in names:\n",
    "        if name == target:\n",
    "            val = name\n",
    "            break\n",
    "    else:\n",
    "        val = None\n",
    "    return val\n",
    "    \n",
    "names = [\"Alice\", \"Bob\", \"Eve\"]\n",
    "print(look(\"Eve\", names))\n",
    "print(look(\"Jack\", names))"
   ]
  },
  {
   "cell_type": "code",
   "execution_count": 12,
   "id": "incomplete-concert",
   "metadata": {},
   "outputs": [
    {
     "name": "stdout",
     "output_type": "stream",
     "text": [
      "{0: 'black', 1: 'blue', 2: 'green', 3: 'red'}\n",
      "0 -> black\n",
      "1 -> blue\n",
      "2 -> green\n",
      "3 -> red\n"
     ]
    }
   ],
   "source": [
    "colors = {0:'black', 1:'blue', 2:'green', 3:'red'}\n",
    "print(colors)\n",
    "for number,color in colors.items():\n",
    "    print(number, \"->\", color)"
   ]
  },
  {
   "cell_type": "markdown",
   "id": "stable-questionnaire",
   "metadata": {},
   "source": [
    "## Plotting with matplotlib\n",
    "Python matplotlib is a plotting library that is not part of core Python which can produce quality figures. Inside the matplotlib package is the matplotlib.pyplot module, which is used to produce figures in a MATLAB-like environment."
   ]
  },
  {
   "cell_type": "code",
   "execution_count": 13,
   "id": "moral-bearing",
   "metadata": {},
   "outputs": [
    {
     "data": {
      "text/html": [
       "<style>\n",
       "table {float:left}\n",
       "</style>\n"
      ],
      "text/plain": [
       "<IPython.core.display.HTML object>"
      ]
     },
     "metadata": {},
     "output_type": "display_data"
    }
   ],
   "source": [
    "%%html\n",
    "<style>\n",
    "table {float:left}\n",
    "</style>"
   ]
  },
  {
   "cell_type": "markdown",
   "id": "subsequent-sally",
   "metadata": {},
   "source": [
    "### Color, line styles, and markers in matplotlib\n",
    "\n",
    "|Character| Color | Character |   Description             |\n",
    "|:-------:|:------|:---------:|:--------------------------|\n",
    "|  'b'    |blue   |  ' - '    |solid line style           |\n",
    "|  'g'    |green  |  ' -- '   |dashed line style          |\n",
    "|  'r'    |red    |  ' -. '   |dash-dot line style        |\n",
    "|  'c'    |cyan   |  ' : '    |dotted line style          |\n",
    "|  'm'    |magenta|  ' o '    |circle marker              |\n",
    "|  'y'    |yellow |  ' s '    |square marker              |\n",
    "|  'k'    |black  |  ' D '    |diamond marker             |\n",
    "|  'w'    |white  |  ' ^ '    |triangle-up marker         | "
   ]
  },
  {
   "cell_type": "code",
   "execution_count": 14,
   "id": "adult-category",
   "metadata": {},
   "outputs": [
    {
     "data": {
      "image/png": "[encoded data removed]",
      "text/plain": [
       "<Figure size 432x288 with 1 Axes>"
      ]
     },
     "metadata": {
      "needs_background": "light"
     },
     "output_type": "display_data"
    }
   ],
   "source": [
    "import matplotlib.pyplot as plt\n",
    "\n",
    "def plotex(cxs,cys,dxs,dys):\n",
    "    plt.xlabel('x', fontsize=20)\n",
    "    plt.ylabel('f(x)', fontsize=20)\n",
    "    plt.plot(cxs, cys, 'r-', label='quadratic')\n",
    "    plt.plot(dxs, dys, 'b--^', label='other function')\n",
    "    plt.legend()\n",
    "    \n",
    "    \n",
    "cxs = [0.1*i for i in range(60)]\n",
    "cys = [x**2 for x in cxs]\n",
    "dxs = [i for i in range(7)]\n",
    "dys = [x**1.8 - 0.5 for x in dxs]\n",
    "\n",
    "plotex(cxs, cys, dxs, dys)"
   ]
  },
  {
   "cell_type": "code",
   "execution_count": 15,
   "id": "higher-participant",
   "metadata": {},
   "outputs": [
    {
     "data": {
      "image/png": "[encoded data removed]",
      "text/plain": [
       "<Figure size 432x288 with 1 Axes>"
      ]
     },
     "metadata": {
      "needs_background": "light"
     },
     "output_type": "display_data"
    }
   ],
   "source": [
    "def plotex(cxs,cys,dxs,dys,dyerrs):\n",
    "    plt.xlabel('x', fontsize=20)\n",
    "    plt.ylabel('f(x)', fontsize=20)\n",
    "    plt.plot(cxs, cys, 'r-', label='quadratic')\n",
    "    plt.errorbar(dxs, dys, dyerrs, fmt='b:D', label='with errors')\n",
    "    plt.legend()\n",
    "    \n",
    "    \n",
    "cxs = [0.1*i for i in range(60)]\n",
    "cys = [x**2 for x in cxs]\n",
    "dxs = [i for i in range(7)]\n",
    "dys = [x**1.8 - 0.5 for x in dxs]\n",
    "dyerrs = [0.1*y for y in dys]\n",
    "\n",
    "plotex(cxs, cys, dxs, dys, dyerrs)"
   ]
  }
 ],
 "metadata": {
  "kernelspec": {
   "display_name": "Python 3",
   "language": "python",
   "name": "python3"
  },
  "language_info": {
   "codemirror_mode": {
    "name": "ipython",
    "version": 3
   },
   "file_extension": ".py",
   "mimetype": "text/x-python",
   "name": "python",
   "nbconvert_exporter": "python",
   "pygments_lexer": "ipython3",
   "version": "3.6.8"
  }
 },
 "nbformat": 4,
 "nbformat_minor": 5
}
